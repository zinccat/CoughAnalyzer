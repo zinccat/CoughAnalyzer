{
 "cells": [
  {
   "cell_type": "markdown",
   "metadata": {},
   "source": [
    "# Evaluating Yamnet Segmentation Model using data_w_noise_white0.03_nbn10_nbd0.5_w-beeping_w-talking dataset"
   ]
  },
  {
   "cell_type": "code",
   "execution_count": 1,
   "metadata": {},
   "outputs": [],
   "source": [
    "import pandas as pd\n",
    "import os\n",
    "import ast"
   ]
  },
  {
   "cell_type": "code",
   "execution_count": 2,
   "metadata": {},
   "outputs": [],
   "source": [
    "audio_directory = os.path.expanduser(\"~/AC297r/CoughAnalyzer/data_w_noise_white0.03_nbn10_nbd0.5_w-beeping_w-talking/\")"
   ]
  },
  {
   "cell_type": "markdown",
   "metadata": {},
   "source": [
    "Get the true cough labels for audio files that do have coughs (files with txt files)"
   ]
  },
  {
   "cell_type": "code",
   "execution_count": 3,
   "metadata": {},
   "outputs": [],
   "source": [
    "df_w_cough_true = pd.DataFrame(columns=['filename', 'intervals'])\n",
    "i = 0\n",
    "\n",
    "for root, dirs, files in os.walk(audio_directory):\n",
    "    for file in files:\n",
    "        if file.endswith('.txt'): #change to '.wav' to analyze the CoughSegmentation dataset\n",
    "            audio_filename = os.path.join(root, file)\n",
    "            interval_lst = []\n",
    "            with open(audio_filename, 'r') as f:\n",
    "              for line in f:\n",
    "                if line.strip(): # skip empty lines\n",
    "                  parts = line.strip().split()\n",
    "                  interval_lst.append([float(parts[0]), float(parts[1])])\n",
    "            df_w_cough_true.loc[i] = [audio_filename, interval_lst]\n",
    "            i += 1\n",
    "df_w_cough_true['filename'] = df_w_cough_true['filename'].apply(\n",
    "    lambda x: os.path.splitext(os.path.basename(x))[0]\n",
    ")"
   ]
  },
  {
   "cell_type": "code",
   "execution_count": 4,
   "metadata": {},
   "outputs": [
    {
     "data": {
      "text/html": [
       "<div>\n",
       "<style scoped>\n",
       "    .dataframe tbody tr th:only-of-type {\n",
       "        vertical-align: middle;\n",
       "    }\n",
       "\n",
       "    .dataframe tbody tr th {\n",
       "        vertical-align: top;\n",
       "    }\n",
       "\n",
       "    .dataframe thead th {\n",
       "        text-align: right;\n",
       "    }\n",
       "</style>\n",
       "<table border=\"1\" class=\"dataframe\">\n",
       "  <thead>\n",
       "    <tr style=\"text-align: right;\">\n",
       "      <th></th>\n",
       "      <th>filename</th>\n",
       "      <th>intervals</th>\n",
       "    </tr>\n",
       "  </thead>\n",
       "  <tbody>\n",
       "    <tr>\n",
       "      <th>0</th>\n",
       "      <td>1dd3b212-e969-4ede-a9d9-f24b711e2028</td>\n",
       "      <td>[[0.782855, 1.01326], [1.198501, 1.388324], [2...</td>\n",
       "    </tr>\n",
       "    <tr>\n",
       "      <th>1</th>\n",
       "      <td>7ae1ffe1-2259-411f-8ead-6c107e01e824</td>\n",
       "      <td>[[1.520353, 2.373774], [4.211789, 4.555528], [...</td>\n",
       "    </tr>\n",
       "    <tr>\n",
       "      <th>2</th>\n",
       "      <td>a4cc4680-8bb6-4646-b9cf-d77a4e8ada21</td>\n",
       "      <td>[[1.778078, 2.284206], [2.301887, 2.655514], [...</td>\n",
       "    </tr>\n",
       "    <tr>\n",
       "      <th>3</th>\n",
       "      <td>620ded24-220f-4ada-b032-2b5c170b279a</td>\n",
       "      <td>[[1.349212, 1.763799], [1.807962, 2.026071], [...</td>\n",
       "    </tr>\n",
       "    <tr>\n",
       "      <th>4</th>\n",
       "      <td>99d322ed-c367-4d45-b6d1-f008b47f1af9</td>\n",
       "      <td>[[0.54401, 1.868028], [1.868028, 2.378799]]</td>\n",
       "    </tr>\n",
       "    <tr>\n",
       "      <th>...</th>\n",
       "      <td>...</td>\n",
       "      <td>...</td>\n",
       "    </tr>\n",
       "    <tr>\n",
       "      <th>195</th>\n",
       "      <td>f5a661dc-8161-4842-b1c3-cd7265896101</td>\n",
       "      <td>[[0.571248, 1.402015], [1.939479, 2.701144], [...</td>\n",
       "    </tr>\n",
       "    <tr>\n",
       "      <th>196</th>\n",
       "      <td>98fb6294-d339-4c83-8ff5-2bbcf82e35e0</td>\n",
       "      <td>[[0.759539, 2.415583], [2.473171, 2.875249], [...</td>\n",
       "    </tr>\n",
       "    <tr>\n",
       "      <th>197</th>\n",
       "      <td>6dff10f3-5df0-4b5a-be62-613afd6115dc</td>\n",
       "      <td>[[3.812107, 4.398915], [5.05404, 5.788743], [5...</td>\n",
       "    </tr>\n",
       "    <tr>\n",
       "      <th>198</th>\n",
       "      <td>25b750e5-8a76-4c13-9fd8-851e45d1b5ed</td>\n",
       "      <td>[[2.450166, 3.222867], [4.159943, 4.705751], [...</td>\n",
       "    </tr>\n",
       "    <tr>\n",
       "      <th>199</th>\n",
       "      <td>de543d13-541c-4ad7-bb3c-c5c302de3aaf</td>\n",
       "      <td>[[2.434624, 3.702582], [4.833072, 5.81886], [5...</td>\n",
       "    </tr>\n",
       "  </tbody>\n",
       "</table>\n",
       "<p>200 rows × 2 columns</p>\n",
       "</div>"
      ],
      "text/plain": [
       "                                 filename  \\\n",
       "0    1dd3b212-e969-4ede-a9d9-f24b711e2028   \n",
       "1    7ae1ffe1-2259-411f-8ead-6c107e01e824   \n",
       "2    a4cc4680-8bb6-4646-b9cf-d77a4e8ada21   \n",
       "3    620ded24-220f-4ada-b032-2b5c170b279a   \n",
       "4    99d322ed-c367-4d45-b6d1-f008b47f1af9   \n",
       "..                                    ...   \n",
       "195  f5a661dc-8161-4842-b1c3-cd7265896101   \n",
       "196  98fb6294-d339-4c83-8ff5-2bbcf82e35e0   \n",
       "197  6dff10f3-5df0-4b5a-be62-613afd6115dc   \n",
       "198  25b750e5-8a76-4c13-9fd8-851e45d1b5ed   \n",
       "199  de543d13-541c-4ad7-bb3c-c5c302de3aaf   \n",
       "\n",
       "                                             intervals  \n",
       "0    [[0.782855, 1.01326], [1.198501, 1.388324], [2...  \n",
       "1    [[1.520353, 2.373774], [4.211789, 4.555528], [...  \n",
       "2    [[1.778078, 2.284206], [2.301887, 2.655514], [...  \n",
       "3    [[1.349212, 1.763799], [1.807962, 2.026071], [...  \n",
       "4          [[0.54401, 1.868028], [1.868028, 2.378799]]  \n",
       "..                                                 ...  \n",
       "195  [[0.571248, 1.402015], [1.939479, 2.701144], [...  \n",
       "196  [[0.759539, 2.415583], [2.473171, 2.875249], [...  \n",
       "197  [[3.812107, 4.398915], [5.05404, 5.788743], [5...  \n",
       "198  [[2.450166, 3.222867], [4.159943, 4.705751], [...  \n",
       "199  [[2.434624, 3.702582], [4.833072, 5.81886], [5...  \n",
       "\n",
       "[200 rows x 2 columns]"
      ]
     },
     "execution_count": 4,
     "metadata": {},
     "output_type": "execute_result"
    }
   ],
   "source": [
    "df_w_cough_true"
   ]
  },
  {
   "cell_type": "markdown",
   "metadata": {},
   "source": [
    "the intervals of coughs detected by yamnet were found using yamnet_evaluation_cough_intevals.py"
   ]
  },
  {
   "cell_type": "code",
   "execution_count": 5,
   "metadata": {},
   "outputs": [],
   "source": [
    "df_w_cough_yamnet = pd.read_csv('data_w_noise_white0.03_nbn10_nbd0.5_w-beeping_w-talking_yamnet_cough_intervals.csv')\n",
    "df_w_cough_yamnet['filename'] = df_w_cough_yamnet['filename'].apply(\n",
    "    lambda x: os.path.splitext(os.path.basename(x))[0]\n",
    ")\n"
   ]
  },
  {
   "cell_type": "code",
   "execution_count": 6,
   "metadata": {},
   "outputs": [
    {
     "data": {
      "text/html": [
       "<div>\n",
       "<style scoped>\n",
       "    .dataframe tbody tr th:only-of-type {\n",
       "        vertical-align: middle;\n",
       "    }\n",
       "\n",
       "    .dataframe tbody tr th {\n",
       "        vertical-align: top;\n",
       "    }\n",
       "\n",
       "    .dataframe thead th {\n",
       "        text-align: right;\n",
       "    }\n",
       "</style>\n",
       "<table border=\"1\" class=\"dataframe\">\n",
       "  <thead>\n",
       "    <tr style=\"text-align: right;\">\n",
       "      <th></th>\n",
       "      <th>filename</th>\n",
       "      <th>intervals</th>\n",
       "    </tr>\n",
       "  </thead>\n",
       "  <tbody>\n",
       "    <tr>\n",
       "      <th>0</th>\n",
       "      <td>29241394-8a28-46f5-8b62-a062b4564c5c</td>\n",
       "      <td>[(98.39999999999999, 99.35999999999999)]</td>\n",
       "    </tr>\n",
       "    <tr>\n",
       "      <th>1</th>\n",
       "      <td>09de6967-b295-4516-8a4d-4d95c9a7b02c</td>\n",
       "      <td>[(2.88, 3.84), (4.32, 5.76), (6.24, 7.2)]</td>\n",
       "    </tr>\n",
       "    <tr>\n",
       "      <th>2</th>\n",
       "      <td>21c16c1c-46fc-4b80-b941-65d7c6e87555</td>\n",
       "      <td>[(0.48, 7.2)]</td>\n",
       "    </tr>\n",
       "    <tr>\n",
       "      <th>3</th>\n",
       "      <td>0969d0c4-34ce-4e9a-8cf1-1b18403587e8</td>\n",
       "      <td>[(2.88, 4.32)]</td>\n",
       "    </tr>\n",
       "    <tr>\n",
       "      <th>4</th>\n",
       "      <td>008c1c9e-aeef-40c5-846c-24f1b964f884</td>\n",
       "      <td>[(1.92, 3.36), (4.8, 5.76)]</td>\n",
       "    </tr>\n",
       "    <tr>\n",
       "      <th>...</th>\n",
       "      <td>...</td>\n",
       "      <td>...</td>\n",
       "    </tr>\n",
       "    <tr>\n",
       "      <th>174</th>\n",
       "      <td>de543d13-541c-4ad7-bb3c-c5c302de3aaf</td>\n",
       "      <td>[(1.92, 3.84), (4.32, 6.239999999999999)]</td>\n",
       "    </tr>\n",
       "    <tr>\n",
       "      <th>175</th>\n",
       "      <td>dddb1a55-d976-40bc-ad41-cdc713623e03</td>\n",
       "      <td>[(5.279999999999999, 6.72)]</td>\n",
       "    </tr>\n",
       "    <tr>\n",
       "      <th>176</th>\n",
       "      <td>21aee478-6d13-45ea-be4d-4f29fd244798</td>\n",
       "      <td>[(1.92, 2.88), (3.36, 4.32), (4.8, 6.239999999...</td>\n",
       "    </tr>\n",
       "    <tr>\n",
       "      <th>177</th>\n",
       "      <td>6647b629-2246-48c9-83ad-c3ad4795c891</td>\n",
       "      <td>[(2.88, 3.84)]</td>\n",
       "    </tr>\n",
       "    <tr>\n",
       "      <th>178</th>\n",
       "      <td>0a03da19-eb19-4f51-9860-78ad95fa8cb5</td>\n",
       "      <td>[(2.88, 4.32)]</td>\n",
       "    </tr>\n",
       "  </tbody>\n",
       "</table>\n",
       "<p>179 rows × 2 columns</p>\n",
       "</div>"
      ],
      "text/plain": [
       "                                 filename  \\\n",
       "0    29241394-8a28-46f5-8b62-a062b4564c5c   \n",
       "1    09de6967-b295-4516-8a4d-4d95c9a7b02c   \n",
       "2    21c16c1c-46fc-4b80-b941-65d7c6e87555   \n",
       "3    0969d0c4-34ce-4e9a-8cf1-1b18403587e8   \n",
       "4    008c1c9e-aeef-40c5-846c-24f1b964f884   \n",
       "..                                    ...   \n",
       "174  de543d13-541c-4ad7-bb3c-c5c302de3aaf   \n",
       "175  dddb1a55-d976-40bc-ad41-cdc713623e03   \n",
       "176  21aee478-6d13-45ea-be4d-4f29fd244798   \n",
       "177  6647b629-2246-48c9-83ad-c3ad4795c891   \n",
       "178  0a03da19-eb19-4f51-9860-78ad95fa8cb5   \n",
       "\n",
       "                                             intervals  \n",
       "0             [(98.39999999999999, 99.35999999999999)]  \n",
       "1            [(2.88, 3.84), (4.32, 5.76), (6.24, 7.2)]  \n",
       "2                                        [(0.48, 7.2)]  \n",
       "3                                       [(2.88, 4.32)]  \n",
       "4                          [(1.92, 3.36), (4.8, 5.76)]  \n",
       "..                                                 ...  \n",
       "174          [(1.92, 3.84), (4.32, 6.239999999999999)]  \n",
       "175                        [(5.279999999999999, 6.72)]  \n",
       "176  [(1.92, 2.88), (3.36, 4.32), (4.8, 6.239999999...  \n",
       "177                                     [(2.88, 3.84)]  \n",
       "178                                     [(2.88, 4.32)]  \n",
       "\n",
       "[179 rows x 2 columns]"
      ]
     },
     "execution_count": 6,
     "metadata": {},
     "output_type": "execute_result"
    }
   ],
   "source": [
    "df_w_cough_yamnet"
   ]
  },
  {
   "cell_type": "code",
   "execution_count": 9,
   "metadata": {},
   "outputs": [],
   "source": [
    "file_w_cough_for_yamnet_and_true = list(set(df_w_cough_yamnet[\"filename\"]).intersection(set(df_w_cough_true[\"filename\"]))) # intersection a and b\n",
    "file_w_cough_for_yamnet_not_true = list(set(df_w_cough_yamnet[\"filename\"]) - set(df_w_cough_true[\"filename\"])) # difference a - b\n",
    "file_w_cough_for_not_yamnet_but_true = list(set(df_w_cough_true[\"filename\"]) - set(df_w_cough_yamnet[\"filename\"])) # difference b - a\n",
    "file_yamnet_and_true_union = list(set(df_w_cough_yamnet[\"filename\"]).union(set(df_w_cough_true[\"filename\"]))) # union a and b"
   ]
  },
  {
   "cell_type": "code",
   "execution_count": 10,
   "metadata": {},
   "outputs": [
    {
     "data": {
      "text/plain": [
       "(173, 6, 27, 206)"
      ]
     },
     "execution_count": 10,
     "metadata": {},
     "output_type": "execute_result"
    }
   ],
   "source": [
    "len(file_w_cough_for_yamnet_and_true), len(file_w_cough_for_yamnet_not_true), len(file_w_cough_for_not_yamnet_but_true), len(file_yamnet_and_true_union)"
   ]
  },
  {
   "cell_type": "markdown",
   "metadata": {},
   "source": [
    "Since there are 200 rows in df_w_cough_true, there are 200 files in the directory that actually contain coughs. Out of the 200, 173 were detected by the yamnet model (86.5%). There were 6 files where yamnet thought there were coughs but they actually did not. There were 27 files where yamnet did not detect coughs even though they were present."
   ]
  },
  {
   "cell_type": "code",
   "execution_count": 49,
   "metadata": {},
   "outputs": [],
   "source": [
    "total_cough_count = 0\n",
    "true_positive = 0\n",
    "false_positive = 0\n",
    "false_negative = 0\n",
    "for filename in file_yamnet_and_true_union:\n",
    "  try:\n",
    "    true_intervals = df_w_cough_true[df_w_cough_true['filename'] == filename]['intervals'].values[0]\n",
    "  except:\n",
    "    true_intervals = []\n",
    "  try:\n",
    "    yamnet_intervals = ast.literal_eval(df_w_cough_yamnet[df_w_cough_yamnet['filename'] == filename]['intervals'].values[0])\n",
    "  except:\n",
    "    yamnet_intervals = []\n",
    "\n",
    "  len_true = len(true_intervals)\n",
    "  len_yamnet = len(yamnet_intervals)\n",
    "  if len_true == 0 and len_yamnet > 0: # false positive\n",
    "    false_positive += len_yamnet\n",
    "    continue \n",
    "  if len_true > 0 and len_yamnet == 0: # false negative\n",
    "    false_negative += len_true\n",
    "    total_cough_count += len_true\n",
    "    continue\n",
    "  \n",
    "  true_positive_yamnet_coughs = set()\n",
    "  for true in true_intervals:\n",
    "    true_a, true_b = true\n",
    "    total_cough_count += 1\n",
    "    caught = False\n",
    "    for yamnet in yamnet_intervals:\n",
    "      yamnet_a, yamnet_b = yamnet\n",
    "      if not (true_b < yamnet_a or true_a > yamnet_b): # check if there's overlap\n",
    "        true_positive += 1\n",
    "        true_positive_yamnet_coughs.add(yamnet)\n",
    "        caught = True\n",
    "        break \n",
    "    if not caught:\n",
    "      false_negative += 1 # there's true cough but yamnet didn't detect = false negative\n",
    "  \n",
    "  for yamnet in yamnet_intervals:\n",
    "    if yamnet not in true_positive_yamnet_coughs:\n",
    "      false_positive += 1  # there's cough detected in yamnet but wasn't true = false positive"
   ]
  },
  {
   "cell_type": "code",
   "execution_count": 50,
   "metadata": {},
   "outputs": [
    {
     "data": {
      "text/plain": [
       "(915, 615, 17, 300)"
      ]
     },
     "execution_count": 50,
     "metadata": {},
     "output_type": "execute_result"
    }
   ],
   "source": [
    "total_cough_count, true_positive, false_positive, false_negative"
   ]
  },
  {
   "cell_type": "code",
   "execution_count": 52,
   "metadata": {},
   "outputs": [
    {
     "data": {
      "text/plain": [
       "0.6721311475409836"
      ]
     },
     "execution_count": 52,
     "metadata": {},
     "output_type": "execute_result"
    }
   ],
   "source": [
    "615/(615+300)"
   ]
  },
  {
   "cell_type": "markdown",
   "metadata": {},
   "source": [
    "$precision = \\frac{True Positive}{True Positive + False Positive} = \\frac{615}{615+17} = 97.3$\n",
    "\n",
    "$recall = \\frac{True Positive}{True Positive + False Negative} = \\frac{615}{615+300} = 67.2$"
   ]
  }
 ],
 "metadata": {
  "kernelspec": {
   "display_name": "Python 3",
   "language": "python",
   "name": "python3"
  },
  "language_info": {
   "codemirror_mode": {
    "name": "ipython",
    "version": 3
   },
   "file_extension": ".py",
   "mimetype": "text/x-python",
   "name": "python",
   "nbconvert_exporter": "python",
   "pygments_lexer": "ipython3",
   "version": "3.11.9"
  }
 },
 "nbformat": 4,
 "nbformat_minor": 2
}
