{
 "cells": [
  {
   "cell_type": "code",
   "execution_count": 7,
   "metadata": {},
   "outputs": [],
   "source": [
    "import pandas as pd\n",
    "import numpy as np\n",
    "import os\n",
    "import sys\n",
    "import json"
   ]
  },
  {
   "cell_type": "code",
   "execution_count": null,
   "metadata": {},
   "outputs": [
    {
     "data": {
      "text/plain": [
       "['public_dataset/6654dbcf-b626-44e0-be40-68c924236bd7.json',\n",
       " 'public_dataset/078c3b81-af35-4d56-aa72-4c2174b5e44b.json',\n",
       " 'public_dataset/452066b9-456b-4c43-bd60-258cab6282b6.json',\n",
       " 'public_dataset/6961d1ea-b9dc-44a8-8a17-7101bcdfe775.json',\n",
       " 'public_dataset/ed3cc769-c2b4-4a6e-b249-752142c0dc2c.json',\n",
       " 'public_dataset/614b6e5e-06d3-4ae1-8ebe-009fff6df74c.json',\n",
       " 'public_dataset/50377d34-bcbe-42d3-9a91-c713e48769ca.json',\n",
       " 'public_dataset/40d1d00b-c1d2-4526-a951-e1a303fc0f36.json',\n",
       " 'public_dataset/3e281baa-763b-481f-9e90-ab63b9c50c95.json',\n",
       " 'public_dataset/d51e9984-6380-4a0e-889d-ab86056de05a.json']"
      ]
     },
     "execution_count": 3,
     "metadata": {},
     "output_type": "execute_result"
    }
   ],
   "source": [
    "# go through public_dataset directory and find all the json files\n",
    "def find_json_files(directory):\n",
    "    json_files = []\n",
    "    for root, dirs, files in os.walk(directory):\n",
    "        for file in files:\n",
    "            if file.endswith(\".json\"):\n",
    "                json_files.append(os.path.join(root, file))\n",
    "    return json_files\n",
    "\n",
    "files = find_json_files(\"public_dataset\")"
   ]
  },
  {
   "cell_type": "code",
   "execution_count": 8,
   "metadata": {},
   "outputs": [],
   "source": [
    "# for all files, get the keys and count the number of times they appear\n",
    "keys = {}\n",
    "for file in files:\n",
    "    with open(file, \"r\") as f:\n",
    "        data = json.load(f)\n",
    "        for key in data.keys():\n",
    "            if key not in keys:\n",
    "                keys[key] = 0\n",
    "            keys[key] += 1\n",
    "# sort the keys by the number of times they appear\n",
    "sorted_keys = sorted(keys.items(), key=lambda x: x[1], reverse=True)"
   ]
  },
  {
   "cell_type": "code",
   "execution_count": 9,
   "metadata": {},
   "outputs": [
    {
     "data": {
      "text/plain": [
       "[('datetime', 27550),\n",
       " ('cough_detected', 27550),\n",
       " ('gender', 16224),\n",
       " ('respiratory_condition', 16224),\n",
       " ('fever_muscle_pain', 16224),\n",
       " ('status', 16224),\n",
       " ('latitude', 16084),\n",
       " ('longitude', 16084),\n",
       " ('age', 15218),\n",
       " ('expert_labels_4', 820),\n",
       " ('expert_labels_1', 820),\n",
       " ('expert_labels_2', 820),\n",
       " ('expert_labels_3', 820)]"
      ]
     },
     "execution_count": 9,
     "metadata": {},
     "output_type": "execute_result"
    }
   ],
   "source": [
    "sorted_keys"
   ]
  },
  {
   "cell_type": "code",
   "execution_count": 11,
   "metadata": {},
   "outputs": [
    {
     "data": {
      "text/plain": [
       "16224"
      ]
     },
     "execution_count": 11,
     "metadata": {},
     "output_type": "execute_result"
    }
   ],
   "source": [
    "# filter out files with 'respiratory_condition' in the keys\n",
    "filtered_files = []\n",
    "for file in files:\n",
    "    with open(file\n",
    "            , \"r\") as f:\n",
    "        data = json.load(f)\n",
    "        if 'respiratory_condition' in data.keys():\n",
    "            filtered_files.append(file)\n",
    "len(filtered_files)"
   ]
  },
  {
   "cell_type": "code",
   "execution_count": 12,
   "metadata": {},
   "outputs": [
    {
     "data": {
      "text/plain": [
       "[('datetime', 16224),\n",
       " ('cough_detected', 16224),\n",
       " ('gender', 16224),\n",
       " ('respiratory_condition', 16224),\n",
       " ('fever_muscle_pain', 16224),\n",
       " ('status', 16224),\n",
       " ('age', 15218),\n",
       " ('latitude', 9737),\n",
       " ('longitude', 9737),\n",
       " ('expert_labels_4', 801),\n",
       " ('expert_labels_1', 697),\n",
       " ('expert_labels_2', 692),\n",
       " ('expert_labels_3', 688)]"
      ]
     },
     "execution_count": 12,
     "metadata": {},
     "output_type": "execute_result"
    }
   ],
   "source": [
    "# count keys in filtered files\n",
    "keys = {}\n",
    "for file in filtered_files:\n",
    "    with open(file, \"r\") as f:\n",
    "        data = json.load(f)\n",
    "        for key in data.keys():\n",
    "            if key not in keys:\n",
    "                keys[key] = 0\n",
    "            keys[key] += 1\n",
    "# sort the keys by the number of times they appear\n",
    "sorted_keys = sorted(keys.items(), key=lambda x: x[1], reverse=True)\n",
    "sorted_keys"
   ]
  },
  {
   "cell_type": "code",
   "execution_count": null,
   "metadata": {},
   "outputs": [],
   "source": []
  }
 ],
 "metadata": {
  "kernelspec": {
   "display_name": "3d",
   "language": "python",
   "name": "python3"
  },
  "language_info": {
   "codemirror_mode": {
    "name": "ipython",
    "version": 3
   },
   "file_extension": ".py",
   "mimetype": "text/x-python",
   "name": "python",
   "nbconvert_exporter": "python",
   "pygments_lexer": "ipython3",
   "version": "3.9.21"
  }
 },
 "nbformat": 4,
 "nbformat_minor": 2
}
